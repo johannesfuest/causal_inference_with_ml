{
 "cells": [
  {
   "cell_type": "code",
   "execution_count": 1,
   "metadata": {},
   "outputs": [],
   "source": [
    "import numpy as np\n",
    "import copy\n",
    "from tqdm import tqdm\n",
    "import seaborn as sns\n",
    "import matplotlib.pyplot as plt\n",
    "np.random.seed(0)"
   ]
  },
  {
   "cell_type": "markdown",
   "metadata": {},
   "source": [
    "## Assignment 1"
   ]
  },
  {
   "cell_type": "code",
   "execution_count": 2,
   "metadata": {},
   "outputs": [
    {
     "name": "stdout",
     "output_type": "stream",
     "text": [
      "Average ATE estimate:  82560.76963818411\n",
      "Average bias:  32560.769638184105\n",
      "Coverage:  0.01\n",
      "Standard deviation of ATE estimates:  10292.931602241\n"
     ]
    }
   ],
   "source": [
    "def biased_ate_estimation():\n",
    "    parent_education = np.random.uniform(0, 4, 1000)\n",
    "    child_ivy = np.random.binomial(n=1, p = 0.1 + parent_education / 10, size=1000)\n",
    "    child_future_income = np.random.normal(100000 + 50000 * parent_education, 10000)\n",
    "    y_0 = copy.deepcopy(child_future_income)\n",
    "    child_future_income = child_future_income + np.random.normal(50000, 10000) * child_ivy\n",
    "    y_1 = copy.deepcopy(child_future_income)\n",
    "\n",
    "    mean_income_no_ivy = np.mean(child_future_income[child_ivy == 0])\n",
    "    mean_income_ivy = np.mean(child_future_income[child_ivy == 1])\n",
    "\n",
    "    two_means_estimator = mean_income_ivy - mean_income_no_ivy\n",
    "    ci_lower = mean_income_ivy - mean_income_no_ivy - 1.96 * np.sqrt(np.var(child_future_income[child_ivy == 0]) / np.sum(child_ivy == 0) + np.var(child_future_income[child_ivy == 1]) / np.sum(child_ivy == 1))\n",
    "    ci_upper = mean_income_ivy - mean_income_no_ivy + 1.96 * np.sqrt(np.var(child_future_income[child_ivy == 0]) / np.sum(child_ivy == 0) + np.var(child_future_income[child_ivy == 1]) / np.sum(child_ivy == 1))\n",
    "    return two_means_estimator, ci_lower, ci_upper\n",
    "\n",
    "biases = []\n",
    "coverage = 0\n",
    "ate_estimates = []\n",
    "for _ in range(100):\n",
    "    ate, ci_lower, ci_upper = biased_ate_estimation()\n",
    "    ate_estimates.append(ate)\n",
    "    if ci_lower < 50000 < ci_upper:\n",
    "        coverage += 1\n",
    "    biases.append(ate - 50000)\n",
    "print(\"Average ATE estimate: \", np.mean(ate_estimates))\n",
    "print(\"Average bias: \", np.mean(biases))\n",
    "print(\"Coverage: \", coverage / 100)\n",
    "print(\"Standard deviation of ATE estimates: \", np.std(ate_estimates))\n",
    "\n"
   ]
  },
  {
   "cell_type": "markdown",
   "metadata": {},
   "source": [
    "### Data generating Process:\n",
    "1. **Parent Education** (\\(P\\)): \n",
    "   - $P \\sim \\text{Uniform}(0, 4)$\n",
    "2. **Treatment Variable** (\\(D\\)): \n",
    "   - $D \\sim \\text{Bernoulli}(0.1 + \\frac{P}{10})$\n",
    "3. **Potential Outcomes**:\n",
    "   - $Y(0) = 100000 + 50000 \\cdot P + \\epsilon, \\quad \\epsilon \\sim \\text{Normal}(0, 10000^2)$\n",
    "   - $Y(1) = Y(0) + 50000 + \\nu, \\quad \\nu \\sim \\text{Normal}(0, 10000^2)$\n",
    "\n",
    "### Explanation of Bias:\n",
    "The treatment assignment \\(D\\) is correlated with \\(P\\), which affects \\(Y\\). As a result:\n",
    "- The treated group (\\(D = 1\\)) is not comparable to the untreated group (\\(D = 0\\)) since \\(P\\) influences both treatment assignment and potential outcomes.\n",
    "- The observed difference between treated and untreated outcomes confounds the true treatment effect with differences driven by \\(P\\).\n",
    "\n",
    "### Real-World Example:\n",
    "A real world example that might have a similar data generating process is a study on the impact of ivy league education on income. In this case, parental education could be a confounding variable that affects both the likelihood of attending an ivy league school and future income. If the study fails to account for parental education, it might overestimate the effect of ivy league education on income.\n",
    "\n",
    "### Results\n",
    "\n",
    "- **Coverage:** 0.01\n",
    "- **Bias:** 32561.77\n",
    "- **Standard Deviation:** 10292.93"
   ]
  },
  {
   "cell_type": "markdown",
   "metadata": {},
   "source": [
    "## Assignment 2"
   ]
  },
  {
   "cell_type": "code",
   "execution_count": 17,
   "metadata": {},
   "outputs": [
    {
     "name": "stdout",
     "output_type": "stream",
     "text": [
      "Overall vaccine efficacy is 1.0000\n"
     ]
    }
   ],
   "source": [
    "# Calculation for age groups 16-17:\n",
    "\n",
    "NV = 58\n",
    "NU = 61\n",
    "RV = 0/NV\n",
    "RU = 1/NU\n",
    "VE = (RU - RV) / RU\n",
    "print(f\"Overall vaccine efficacy is {VE:.4f}\")\n"
   ]
  },
  {
   "cell_type": "markdown",
   "metadata": {},
   "source": [
    "Yes, in this case for the age group 16-17 years we recover the same vaccine efficacy (100%) as the CDC."
   ]
  },
  {
   "cell_type": "code",
   "execution_count": 18,
   "metadata": {},
   "outputs": [
    {
     "name": "stdout",
     "output_type": "stream",
     "text": [
      "Overall vaccine efficacy is 0.9459\n"
     ]
    }
   ],
   "source": [
    "# Calculation for age groups 18-64:\n",
    "\n",
    "NV = 14445\n",
    "NU = 14566\n",
    "RV = 8/NV\n",
    "RU = 149/NU\n",
    "VE = (RU - RV) / RU\n",
    "print(f\"Overall vaccine efficacy is {VE:.4f}\")"
   ]
  },
  {
   "cell_type": "markdown",
   "metadata": {},
   "source": [
    "In this case, the vaccine efficiency we get is the same as the CDC with rounding (us: 94.59%, them: 94.6%)."
   ]
  },
  {
   "cell_type": "code",
   "execution_count": 24,
   "metadata": {},
   "outputs": [
    {
     "name": "stdout",
     "output_type": "stream",
     "text": [
      "CI for vaccine efficacy in age group 16-17 is (np.float64(1.0), np.float64(1.0))\n",
      "CI for vaccine efficacy in age group 18-64 is (np.float64(0.9275691460112211), np.float64(0.9641488028854269))\n"
     ]
    }
   ],
   "source": [
    "# Delta method CI for age groups 16-17:\n",
    "\n",
    "NV = 58\n",
    "NU = 61 \n",
    "RV = 0/NV\n",
    "RU = 1/NU\n",
    "VE = (RU - RV) / RU\n",
    "\n",
    "var_RV = np.var([0] * 58) / 58\n",
    "var_RU = np.var([0] * 60 + [1]) / 61\n",
    "\n",
    "V_hat = np.array([[var_RV, 0], [0, var_RU]])\n",
    "\n",
    "G = np.array([-(1/RU), (RV/(RU**2))])\n",
    "\n",
    "var_delta = G @ V_hat @ G.T\n",
    "\n",
    "std_err_delta = np.sqrt(var_delta / (NV + NU))\n",
    "\n",
    "CI = VE - 1.96 * std_err_delta, VE + 1.96 * std_err_delta\n",
    "\n",
    "print(f\"CI for vaccine efficacy in age group 16-17 is {CI}\")\n",
    "\n",
    "# Delta method CI for age groups 18-64:\n",
    "\n",
    "NV = 14445\n",
    "NU = 14566\n",
    "RV = 8/NV\n",
    "RU = 149/NU\n",
    "VE = (RU - RV) / RU\n",
    "\n",
    "var_RV = np.var([0] * 58) / 58\n",
    "var_RU = np.var([0] * 60 + [1]) / 61\n",
    "\n",
    "V_hat = np.array([[var_RU, 0], [0, var_RV]])\n",
    "\n",
    "G = np.array([-(1/RU), (RV/(RU**2))])\n",
    "\n",
    "var_delta = G @ V_hat @ G.T\n",
    "\n",
    "std_err_delta = np.sqrt(var_delta / (NV + NU))\n",
    "\n",
    "# TODO: figure out whether division by sample size is correct\n",
    "\n",
    "CI = VE - 1.96 * std_err_delta, VE + 1.96 * std_err_delta\n",
    "\n",
    "print(f\"CI for vaccine efficacy in age group 18-64 is {CI}\")\n"
   ]
  },
  {
   "cell_type": "markdown",
   "metadata": {},
   "source": [
    "The vaccine efficiency is $\\frac{RU-RV}{RU}$. Using our observed risks, we can construct a plug-in estimate $\\hat{VE} = \\frac{\\hat{RU}-\\hat{RV}}{\\hat{RU}} = 1 - \\frac{\\hat{RV}}{\\hat{RU}}$.\n",
    "\n",
    "The gradient of this with respect to the observed risks, is $G = \\left( -\\frac{1}{\\hat{RU}}, \\frac{\\hat{RV}}{\\hat{RU}^2} \\right)$.\n",
    "\n",
    "For the variance, we can use the delta method, which gives us the approximation: $\\sqrt{n}(\\hat{VE} - VE)\\sim^a \\mathcal{N}(0, GVG^T)$, where $V$ is the variance-covariance matrix of the observed risks.\n",
    "\n",
    "We know that the distribution of the observed risks under some mild regularity conditions can be described by:$\\sqrt{n}(\\hat{R} - \\mu) \\sim^a \\mathcal{N}(0, \\hat{V})$, where $\\mu$ is the vector of true population risks, and $V$ is a consistent estimate of their covariance matrix: $\\hat{V} = \\begin{pmatrix} \\frac{Var(Y|D=0)}{P(D=)} & 0 \\\\ 0 & \\frac{Var(Y|D=1)}{P(D=1)} \\end{pmatrix}$.\n",
    "\n",
    "To obtain the final CI based on the delta method, we therefore compute $\\hat{VE} \\pm 1.96 * \\sqrt{G\\hat{V}G^T / n}$ where n is the total number of patients in the respective age group and $\\sqrt{G\\hat{V}G^T / n}$ is the standard error. "
   ]
  },
  {
   "cell_type": "markdown",
   "metadata": {},
   "source": [
    "## Assignment 3"
   ]
  },
  {
   "cell_type": "code",
   "execution_count": null,
   "metadata": {},
   "outputs": [],
   "source": []
  }
 ],
 "metadata": {
  "kernelspec": {
   "display_name": "cs288",
   "language": "python",
   "name": "python3"
  },
  "language_info": {
   "codemirror_mode": {
    "name": "ipython",
    "version": 3
   },
   "file_extension": ".py",
   "mimetype": "text/x-python",
   "name": "python",
   "nbconvert_exporter": "python",
   "pygments_lexer": "ipython3",
   "version": "3.12.5"
  }
 },
 "nbformat": 4,
 "nbformat_minor": 2
}
