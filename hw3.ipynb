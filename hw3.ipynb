{
 "cells": [
  {
   "cell_type": "code",
   "execution_count": null,
   "metadata": {},
   "outputs": [],
   "source": [
    "import pandas as pd\n",
    "import numpy as np\n",
    "import matplotlib.pyplot as plt\n",
    "\n",
    "\n"
   ]
  },
  {
   "cell_type": "markdown",
   "metadata": {},
   "source": [
    "### Assignment 1"
   ]
  },
  {
   "cell_type": "code",
   "execution_count": null,
   "metadata": {},
   "outputs": [],
   "source": []
  },
  {
   "cell_type": "markdown",
   "metadata": {},
   "source": [
    "### Assignment 2\n",
    "\n",
    "\n",
    "In various regions across Europe, we see a correlation between stork populations and birth rates (Matthews, 2000). This joke “evidence” that storks bring babies is driven by confounders that affect both the number of storks and the number of births.\n",
    "\n",
    "---\n",
    "\n",
    "Causal Graph:\n",
    "  \n",
    "```\n",
    "+-----------------------------------------------------------------------------------------------------+\n",
    "                                |  Rurality/Environment|\n",
    "                                |  Population density  |\n",
    "                                +----------------------+\n",
    "                                   /            \\\n",
    "                                  /              \\\n",
    "                                 / (influences)   \\ (influences)\n",
    "                                /                  \\\n",
    " +------------------+ | Stork Population | --> | Birth Rate | +---------------------------------------+\n",
    "```\n",
    "\n",
    "  \n",
    "\n",
    "- **Stork Population (T)**: The so-called “treatment” (erroneously presumed to cause higher birth rates).\n",
    "- **Birth Rate (O)**: The observed outcome (number of babies per population).\n",
    "- **Rurality / Environment / Population density etc (C)**: A set of key *confounders* that influences both stork nesting (availability of farmland, conservation efforts, nesting sites) and human fertility behavior (cultural norms, family size preferences, population density, etc.).\n",
    "\n",
    "---\n",
    "\n",
    "What variables or domain knowledge would you need to collect in a dataset in order to apply an identification by conditioning or an identification via propensity scores approach to the estimation of the causal effect?\n",
    "\n",
    "This case is admittedly slightly ridiculous, since it is clear that storks do not cause babies. Thus \"domain expertise\" is not really applicable here, although we could of course talk to a avian zoologist specialized in storks, that would likely confirm this. However, if we were to take this seriously from a data perspective, we would collect variables, such as:\n",
    "\n",
    "- **Land Use / Habitat:** Farmland, wetlands, regulations.  \n",
    "- **Demographics:** Rural vs. urban splits, age distributions, cultural norms.  \n",
    "- **Socioeconomics:** Income, education, healthcare access.  \n",
    "- **Geography / Climate:** Seasonal patterns, temperature, precipitation.  \n",
    "- **Policy / Infrastructure:** Zoning laws, quality of healthcare.\n",
    "\n",
    "By conditioning on these variables (e.g., in regression or stratification) or using propensity scores (estimating the likelihood of “high stork population” given habitat/socioeconomic features), we could isolate any direct effect of storks on birth rates (which would extremely unlikely to be non-zero if we do it right).\n",
    "\n",
    "---\n",
    "\n",
    "### References\n",
    "\n",
    "1. **Matthews, R. (2000).** “Storks deliver babies (p = 0.008).” *Teaching Statistics*, 2(2), 70–72.  \n",
    "   [https://www.researchgate.net/publication/227763292_Storks_Deliver_Babies_p_0008](stork paper)"
   ]
  }
 ],
 "metadata": {
  "kernelspec": {
   "display_name": "cs288",
   "language": "python",
   "name": "python3"
  },
  "language_info": {
   "name": "python",
   "version": "3.12.5"
  }
 },
 "nbformat": 4,
 "nbformat_minor": 2
}
